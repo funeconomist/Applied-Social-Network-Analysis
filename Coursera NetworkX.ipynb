{
 "cells": [
  {
   "cell_type": "code",
   "execution_count": 1,
   "metadata": {},
   "outputs": [],
   "source": [
    "import networkx as nx\n",
    "G = nx.Graph()\n",
    "G.add_edge(\"A\", \"B\")\n",
    "G.add_edge(\"B\", \"C\")\n",
    "# network x would automatically add them to your graph\n",
    "\n",
    "# direction has important meaning\n",
    "# un-directed, (just a line) \n",
    "#directed you need an arrow\n",
    "\n",
    "# Undirected network\n",
    "# edges have no direction\n",
    "G = nx.Graph()\n",
    "G.add_edge(\"A\", \"B\")\n",
    "\n",
    "#Directed Network\n",
    "# edges have direction\n",
    "G = nx.DiGraph()\n",
    "G.add_edge(\"B\", \"A\")\n",
    "G.add_edge(\"B\", \"C\") # Order matters, fromm B to\n",
    "\n",
    "\n",
    "#Weighted Networks\n",
    "# Not all relationships are equall. Some edges carry higher weight than others\n",
    "\n",
    "# The strength of theses network have a numeric weight. \n",
    "# Weighted network: a network where edges are assigned a (typically numerical weight)\n",
    "G = nx.Graph()\n",
    "G.add_edge(\"A\", \"B\", weight = 6)\n",
    "G.add_edge(\"B\", \"C\", weight = 13)\n",
    "\n",
    "#Signed Networks\n",
    "# Some networks can carry information about friiendship and antagonism based on conflict or disagreement\n",
    "# This graphs has edges _ or +\n",
    "\n",
    "#Signed netwprk: a network where edges are assigned positive or negative sign \n",
    "G = nx.Graph()\n",
    "G.add_edge(\"A\", \"B\", sign = \"+\")\n",
    "G.add_edge(\"B\", \"C\", sign = \"-\")\n",
    "\n",
    "\n",
    "#Edges can have weights, signs, can carry many other labels or attributes\n",
    "# New case, edges are colored to illustrate different kinds of relationship\n",
    "G = nx.Graph()\n",
    "G.add_edge(\"A\", \"B\", relation = \"friend\")\n",
    "G.add_edge(\"B\", \"C\", relation = \"coworker\")\n",
    "G.add_edge(\"D\", \"E\", relation = \"family\")\n",
    "\n",
    "\n",
    "#MultiGraphs\n",
    "# these nodes have different types of relationships between each one. \n",
    "# Two nodes, can have two different types of relationships. \n",
    "\n",
    "# C, F, can be coworkers and friend\n",
    "# This is called a multigraph, multiple edges same node\n",
    "G = nx.MultiGraph()\n",
    "G.add_edge(\"A\", \"B\", relation = \"friend\")\n",
    "G.add_edge(\"A\", \"B\", relation = \"neighbor\")\n",
    "\n",
    "\n",
    "# Summary\n",
    "# We have Undirected \n",
    "G = nx.Graph()\n",
    "\n",
    "# Directed:\n",
    "G = nx.DiGraph()\n",
    "\n",
    "# Signed:\n",
    "G.add_edge(\"A\", \"B\", sign = \"+\")\n",
    "\n",
    "# MultiGraph\n",
    "G = nx.MultiGraph()\n",
    "\n",
    "# Weighted\n",
    "G.add_edge(\"A\", \"B\", weight = 6)\n",
    "\n"
   ]
  },
  {
   "cell_type": "code",
   "execution_count": 2,
   "metadata": {},
   "outputs": [
    {
     "ename": "KeyError",
     "evalue": "'C'",
     "output_type": "error",
     "traceback": [
      "\u001b[0;31m---------------------------------------------------------------------------\u001b[0m",
      "\u001b[0;31mKeyError\u001b[0m                                  Traceback (most recent call last)",
      "\u001b[0;32m<ipython-input-2-b520a272f912>\u001b[0m in \u001b[0;36m<module>\u001b[0;34m\u001b[0m\n\u001b[1;32m     18\u001b[0m \u001b[0mG\u001b[0m\u001b[0;34m.\u001b[0m\u001b[0madd_edge\u001b[0m\u001b[0;34m(\u001b[0m\u001b[0;34m\"C\"\u001b[0m\u001b[0;34m,\u001b[0m \u001b[0;34m\"B\"\u001b[0m\u001b[0;34m,\u001b[0m \u001b[0mweight\u001b[0m \u001b[0;34m=\u001b[0m \u001b[0;36m13\u001b[0m\u001b[0;34m,\u001b[0m \u001b[0mrelation\u001b[0m \u001b[0;34m=\u001b[0m \u001b[0;34m\"friend\"\u001b[0m\u001b[0;34m)\u001b[0m\u001b[0;34m\u001b[0m\u001b[0;34m\u001b[0m\u001b[0m\n\u001b[1;32m     19\u001b[0m \u001b[0mG\u001b[0m\u001b[0;34m.\u001b[0m\u001b[0medge\u001b[0m\u001b[0;34m[\u001b[0m\u001b[0;34m'C'\u001b[0m\u001b[0;34m]\u001b[0m\u001b[0;34m[\u001b[0m\u001b[0;34m'B'\u001b[0m\u001b[0;34m]\u001b[0m\u001b[0;34m[\u001b[0m\u001b[0;34m'weight'\u001b[0m\u001b[0;34m]\u001b[0m\u001b[0;34m\u001b[0m\u001b[0;34m\u001b[0m\u001b[0m\n\u001b[0;32m---> 20\u001b[0;31m \u001b[0mG\u001b[0m\u001b[0;34m.\u001b[0m\u001b[0medge\u001b[0m\u001b[0;34m[\u001b[0m\u001b[0;34m'B'\u001b[0m\u001b[0;34m]\u001b[0m\u001b[0;34m[\u001b[0m\u001b[0;34m'C'\u001b[0m\u001b[0;34m]\u001b[0m\u001b[0;34m[\u001b[0m\u001b[0;34m'weight'\u001b[0m\u001b[0;34m]\u001b[0m \u001b[0;31m# error, because edge does not exiist, order does matter\u001b[0m\u001b[0;34m\u001b[0m\u001b[0;34m\u001b[0m\u001b[0m\n\u001b[0m\u001b[1;32m     21\u001b[0m \u001b[0;34m\u001b[0m\u001b[0m\n\u001b[1;32m     22\u001b[0m \u001b[0mG\u001b[0m \u001b[0;34m=\u001b[0m \u001b[0mnx\u001b[0m\u001b[0;34m.\u001b[0m\u001b[0mMultiGraph\u001b[0m\u001b[0;34m(\u001b[0m\u001b[0;34m)\u001b[0m\u001b[0;34m\u001b[0m\u001b[0;34m\u001b[0m\u001b[0m\n",
      "\u001b[0;31mKeyError\u001b[0m: 'C'"
     ]
    }
   ],
   "source": [
    "# Nodess and edge attriibute\n",
    "G = nx.Graph()\n",
    "G.add_edge(\"A\", \"B\", weight = 6, relation = \"family\")\n",
    "G.add_edge(\"B\", \"C\", weight = 13, relation = \"friend\")\n",
    "G.edges()\n",
    "\n",
    "G.edges(data = True) # list all edges with attribtues they have\n",
    "\n",
    "G.edges(data = \"relation\") # list of all edges with attribute 'relation'\n",
    "\n",
    "G.edge['A']['B']#dictionary of attributes of edges(A,B)\n",
    "G.edge['B']['C']['weight'] # undirected graph, order does not matter\n",
    "\n",
    "\n",
    "# For directed, weighted network\n",
    "G = nx.DiGraph()\n",
    "G.add_edge(\"A\", \"B\", weight = 6, relation = \"family\")\n",
    "G.add_edge(\"C\", \"B\", weight = 13, relation = \"friend\")\n",
    "G.edge['C']['B']['weight']\n",
    "G.edge['B']['C']['weight'] # error, because edge does not exiist, order does matter\n",
    "\n",
    "G = nx.MultiGraph()\n",
    "G.add_edge(\"A\", \"B\", weight = 6, relation = \"family\")\n",
    "G.add_edge(\"A\", \"B\", weight = 18, relation = \"friend\")\n",
    "G.Add_edge(\"C\", \"B\", weigt = 13, relation = \"freind\")\n",
    "\n",
    "# Accessing edge attributes\n",
    "G.edge[\"A\"][\"B\"] # one dictiuonary of attirbutes per (A,B) edge\n",
    "\n",
    "# Directed MultiGraph\n",
    "G = nx.MultiDiGraph()\n",
    "G.add_edge(\"A\", \"B\", weight = 6, relation = \"family\")\n",
    "G.add_edge(\"A\", \"B\", weight = 18, realtion = \"friend\")\n",
    "G.add_edge(\"C\", \"B\")\n",
    "\n",
    "\n"
   ]
  },
  {
   "cell_type": "code",
   "execution_count": 7,
   "metadata": {},
   "outputs": [
    {
     "data": {
      "text/plain": [
       "'trader'"
      ]
     },
     "execution_count": 7,
     "metadata": {},
     "output_type": "execute_result"
    }
   ],
   "source": [
    "import networkx as nx\n",
    "\n",
    "G=nx.MultiDiGraph()\n",
    "\n",
    "G.add_edge('John', 'Ana', weight= 3, relation = 'siblings')\n",
    "G.add_edge('Ana', 'David', weight= 4, relation = 'cousins')\n",
    "G.add_edge('Ana', 'Bob', weight= 1, relation = 'friends')\n",
    "G.add_edge('Ana', 'Bob', weight= 1, relation = 'neighbors')\n",
    "\n",
    "\n",
    "# Sometimes you wnt to color the nodes\n",
    "G = nx.Graph()\n",
    "G.add_edge(\"A\", \"B\", weight = 6, relation = \"family\")\n",
    "G.add_edge(\"B\", \"C\", weight = 13, relation = \"friend\")\n",
    "\n",
    "# Adding node attributes:\n",
    "G.add_node(\"A\", role = \"trader\")\n",
    "G.add_node(\"B\", role = \"trader\")\n",
    "G.add_node(\"C\", role = \"manager\")\n",
    "\n",
    "G.nodes()\n",
    "G.nodes(data = True)\n",
    "G.node[\"A\"][\"role\"]\n",
    "\n"
   ]
  },
  {
   "cell_type": "code",
   "execution_count": 13,
   "metadata": {},
   "outputs": [
    {
     "ename": "NameError",
     "evalue": "name 'bipartite' is not defined",
     "output_type": "error",
     "traceback": [
      "\u001b[0;31m---------------------------------------------------------------------------\u001b[0m",
      "\u001b[0;31mNameError\u001b[0m                                 Traceback (most recent call last)",
      "\u001b[0;32m<ipython-input-13-77e712f0f072>\u001b[0m in \u001b[0;36m<module>\u001b[0;34m\u001b[0m\n\u001b[1;32m      8\u001b[0m \u001b[0mB\u001b[0m\u001b[0;34m.\u001b[0m\u001b[0madd_edges_from\u001b[0m\u001b[0;34m(\u001b[0m\u001b[0;34m[\u001b[0m\u001b[0;34m(\u001b[0m\u001b[0;34m\"A\"\u001b[0m\u001b[0;34m,\u001b[0m \u001b[0;36m1\u001b[0m\u001b[0;34m)\u001b[0m\u001b[0;34m,\u001b[0m \u001b[0;34m(\u001b[0m\u001b[0;34m\"B\"\u001b[0m\u001b[0;34m,\u001b[0m \u001b[0;36m1\u001b[0m\u001b[0;34m)\u001b[0m\u001b[0;34m,\u001b[0m \u001b[0;34m(\u001b[0m\u001b[0;34m\"C\"\u001b[0m\u001b[0;34m,\u001b[0m \u001b[0;36m1\u001b[0m\u001b[0;34m)\u001b[0m\u001b[0;34m,\u001b[0m \u001b[0;34m(\u001b[0m\u001b[0;34m\"C\"\u001b[0m\u001b[0;34m,\u001b[0m \u001b[0;36m3\u001b[0m\u001b[0;34m)\u001b[0m\u001b[0;34m,\u001b[0m \u001b[0;34m(\u001b[0m\u001b[0;34m\"D\"\u001b[0m\u001b[0;34m,\u001b[0m \u001b[0;36m2\u001b[0m\u001b[0;34m)\u001b[0m\u001b[0;34m,\u001b[0m \u001b[0;34m(\u001b[0m\u001b[0;34m\"E\"\u001b[0m\u001b[0;34m,\u001b[0m \u001b[0;36m3\u001b[0m\u001b[0;34m)\u001b[0m\u001b[0;34m]\u001b[0m\u001b[0;34m)\u001b[0m\u001b[0;34m\u001b[0m\u001b[0;34m\u001b[0m\u001b[0m\n\u001b[1;32m      9\u001b[0m \u001b[0;34m\u001b[0m\u001b[0m\n\u001b[0;32m---> 10\u001b[0;31m \u001b[0mprint\u001b[0m\u001b[0;34m(\u001b[0m\u001b[0mbipartite\u001b[0m\u001b[0;34m.\u001b[0m\u001b[0mis_bipartite\u001b[0m\u001b[0;34m(\u001b[0m\u001b[0mB\u001b[0m\u001b[0;34m)\u001b[0m\u001b[0;34m)\u001b[0m\u001b[0;34m\u001b[0m\u001b[0;34m\u001b[0m\u001b[0m\n\u001b[0m\u001b[1;32m     11\u001b[0m \u001b[0mB\u001b[0m\u001b[0;34m.\u001b[0m\u001b[0madd_edge\u001b[0m\u001b[0;34m(\u001b[0m\u001b[0;34m\"A\"\u001b[0m\u001b[0;34m,\u001b[0m \u001b[0;34m\"B\"\u001b[0m\u001b[0;34m)\u001b[0m \u001b[0;31m# no longer bipartite, one set that goes to another\u001b[0m\u001b[0;34m\u001b[0m\u001b[0;34m\u001b[0m\u001b[0m\n\u001b[1;32m     12\u001b[0m \u001b[0mprint\u001b[0m\u001b[0;34m(\u001b[0m\u001b[0mbipartite\u001b[0m\u001b[0;34m.\u001b[0m\u001b[0mis_bipartite\u001b[0m\u001b[0;34m(\u001b[0m\u001b[0mB\u001b[0m\u001b[0;34m)\u001b[0m\u001b[0;34m)\u001b[0m\u001b[0;34m\u001b[0m\u001b[0;34m\u001b[0m\u001b[0m\n",
      "\u001b[0;31mNameError\u001b[0m: name 'bipartite' is not defined"
     ]
    }
   ],
   "source": [
    "# Bipartite Graph: a graph whose nodes can be split into two sets L and R and \n",
    "#every edge connects an node in L with a node in R\n",
    "\n",
    "#from networkx.algorithms immport bipartite\n",
    "B = nx.Graph() # No seperate class for bipartite graphs\n",
    "B.add_nodes_from([\"A\", \"B\", \"C\", \"D\", \"E\"], bipartite = 0)\n",
    "B.add_nodes_from([1,2,3,4], bipartite = 1)\n",
    "B.add_edges_from([(\"A\", 1), (\"B\", 1), (\"C\", 1), (\"C\", 3), (\"D\", 2), (\"E\", 3)])\n",
    "\n",
    "print(bipartite.is_bipartite(B))\n",
    "B.add_edge(\"A\", \"B\") # no longer bipartite, one set that goes to another\n",
    "print(bipartite.is_bipartite(B))\n",
    "B.remove_edge(\"A\", \"B\")\n",
    "\n",
    "# Checking if a set of nodes is a bipartition of a graph\n",
    "X = set([1,2,3,4])\n",
    "bipartite.is_bipartite_node_set(B,X)\n",
    "\n",
    "X = set([\"A\", \"B\", \"C\", \"D\", \"E\"])\n",
    "bipartite.sets(B)\n",
    "B.add_edge(\"A\", \"B\")\n",
    "\n",
    "\n"
   ]
  },
  {
   "cell_type": "code",
   "execution_count": 14,
   "metadata": {},
   "outputs": [],
   "source": [
    "import networkx as nx\n",
    "\n",
    "G=nx.MultiGraph()\n",
    "G.add_node('A',role='manager')\n",
    "G.add_edge('A','B',relation = 'friend')\n",
    "G.add_edge('A','C', relation = 'business partner')\n",
    "G.add_edge('A','B', relation = 'classmate')\n",
    "G.node['A']['role'] = 'team member'\n",
    "G.node['B']['role'] = 'engineer'"
   ]
  },
  {
   "cell_type": "code",
   "execution_count": 16,
   "metadata": {},
   "outputs": [
    {
     "data": {
      "text/plain": [
       "[('A', {'role': 'team member'}), ('B', {'role': 'engineer'}), ('C', {})]"
      ]
     },
     "execution_count": 16,
     "metadata": {},
     "output_type": "execute_result"
    }
   ],
   "source": [
    "G.nodes(data = True)"
   ]
  },
  {
   "cell_type": "code",
   "execution_count": 17,
   "metadata": {},
   "outputs": [],
   "source": [
    "import networkx as nx\n",
    "\n",
    "G=nx.MultiGraph()\n",
    "G.add_node('A',role='manager')\n",
    "G.add_edge('A','B',relation = 'friend')\n",
    "G.add_edge('A','C', relation = 'business partner')\n",
    "G.add_edge('A','B', relation = 'classmate')\n",
    "G.node['A']['role'] = 'team member'\n",
    "G.node['B']['role'] = 'engineer'"
   ]
  },
  {
   "cell_type": "code",
   "execution_count": 19,
   "metadata": {},
   "outputs": [
    {
     "data": {
      "text/plain": [
       "{'relation': 'friend'}"
      ]
     },
     "execution_count": 19,
     "metadata": {},
     "output_type": "execute_result"
    }
   ],
   "source": [
    "G.edge[\"A\"][\"B\"][0]\n"
   ]
  },
  {
   "cell_type": "code",
   "execution_count": 20,
   "metadata": {},
   "outputs": [],
   "source": [
    "import networkx as nx\n",
    "\n",
    "G=nx.MultiGraph()\n",
    "G.add_node('A',role='manager')\n",
    "G.add_edge('A','B',relation = 'friend')\n",
    "G.add_edge('A','C', relation = 'business partner')\n",
    "G.add_edge('A','B', relation = 'classmate')\n",
    "G.node['A']['role'] = 'team member'\n",
    "G.node['B']['role'] = 'engineer'\n"
   ]
  },
  {
   "cell_type": "code",
   "execution_count": 21,
   "metadata": {},
   "outputs": [
    {
     "data": {
      "text/plain": [
       "{'role': 'team member'}"
      ]
     },
     "execution_count": 21,
     "metadata": {},
     "output_type": "execute_result"
    }
   ],
   "source": [
    "G.node[\"A\"]"
   ]
  },
  {
   "cell_type": "code",
   "execution_count": null,
   "metadata": {},
   "outputs": [],
   "source": [
    "# Week 2\n",
    "\n",
    "# Triadic closure\n",
    "#Traidic closure: The tendency for people who shar econnections in a social network to become connected?\n",
    "\n",
    "# Local clustering coefficient of a node: \n",
    "#Fraction of pairs of the node's friends that are friends with each other\n",
    "\n",
    "# of pairs of C's friends who are friend / Number ofpairs of C's friends\n",
    "# of c's friends = 4\n",
    "# of pairs of C's friends = C has 4 friends,  and you can have d*d-1/2 pairs choose(n, 2) = 6\n",
    "# of pair's of c's friends who are friends  = 2\n",
    "# 2/6 ==> 1/3 . !/3 who could be friends are actually friends. \n",
    "\n",
    "\n"
   ]
  },
  {
   "cell_type": "markdown",
   "metadata": {},
   "source": [
    "Compute for F \n",
    "\n",
    "umber of pairs of F's friends who are friends / number of pairs of F's friends\n",
    "\n",
    "df = 3 so total pairs is 3\n",
    "Number of F's friends who are friends = 1\n",
    "1/3 result\n",
    "\n",
    "Compute the local clustering coefficent of node J\n",
    "node J only has one friend. and that is node 0\n",
    "We have 0"
   ]
  },
  {
   "cell_type": "code",
   "execution_count": 25,
   "metadata": {},
   "outputs": [
    {
     "name": "stdout",
     "output_type": "stream",
     "text": [
      "0.3333333333333333\n",
      "0.6666666666666666\n",
      "0.28787878787878785\n",
      "0.4090909090909091\n"
     ]
    }
   ],
   "source": [
    "G = nx.Graph()\n",
    "G.add_edges_from([\n",
    "    (\"A\", \"K\"), (\"A\", \"B\"), (\"A\", \"C\"), (\"B\", \"C\"), (\"B\", \"K\"), (\"C\", \"E\"), (\"C\", \"F\"),\n",
    "    (\"D\", \"E\"), (\"E\", \"F\"), (\"E\", \"H\"), (\"F\", \"G\"), (\"I\", \"J\")\n",
    "])\n",
    "print(nx.clustering(G, \"F\"))\n",
    "print(nx.clustering(G, \"A\"))\n",
    "\n",
    "\n",
    "#Measuring clustering on the whole network\n",
    "# we know if for the loal\n",
    "\n",
    "#Approach 1: Average locoal clustering coefficeint over all nodes int he graph\n",
    "print(nx.average_clustering(G))\n",
    "\n",
    "# Aapproach 2: Measure percetnage of open triads \n",
    "# Triangle, three nodes connected by three edges\n",
    "\n",
    "# A triangle that is missing one of the connections\n",
    "\n",
    "# Transitivity\n",
    "# Ratio of number of triangles and number of open triads in a network\n",
    "print(nx.transitivity(G))\n",
    "\n",
    "# Both measure the tendency for edges to form triangles. \n",
    "# Transitivity weights nodes with larger degree higher\n"
   ]
  },
  {
   "cell_type": "code",
   "execution_count": null,
   "metadata": {},
   "outputs": [],
   "source": [
    "# distance\n",
    "\n",
    "# Path: a sequence of nodes connected by an edge:\n",
    "\n",
    "# Find two paths from node G to node C:\n",
    "#How far is node A from node H (4 hops)\n",
    "#Breadth first searcch: a systematic and efficient procedure for computing distances from a node to all other nodes in a large network\n"
   ]
  },
  {
   "cell_type": "markdown",
   "metadata": {},
   "source": [
    "# Week 2 Summary\n",
    "Distance betwwen two nodes: legnth of the shortest path between them\n",
    "Eccentricity of a node n is the largest distance between n and all other nodes. \n",
    "\n",
    "Characterizing distances in a network:\n",
    "Average distance between every pair of nodes\n",
    "Diameter: maximmum distance between any pair of nodes\n",
    "radius: minimmum eccentricitiy in the graph\n",
    "\n",
    "Identifying central and peripheral nodes:\n",
    "The periphery is set of nodes with cecccentricity = diameter\n",
    "the ccenter is the set of nodes with eccentricity = radius\n"
   ]
  },
  {
   "cell_type": "code",
   "execution_count": null,
   "metadata": {},
   "outputs": [],
   "source": []
  },
  {
   "cell_type": "code",
   "execution_count": null,
   "metadata": {},
   "outputs": [],
   "source": []
  },
  {
   "cell_type": "code",
   "execution_count": null,
   "metadata": {},
   "outputs": [],
   "source": []
  },
  {
   "cell_type": "code",
   "execution_count": null,
   "metadata": {},
   "outputs": [],
   "source": []
  },
  {
   "cell_type": "code",
   "execution_count": null,
   "metadata": {},
   "outputs": [],
   "source": []
  },
  {
   "cell_type": "code",
   "execution_count": null,
   "metadata": {},
   "outputs": [],
   "source": []
  },
  {
   "cell_type": "code",
   "execution_count": null,
   "metadata": {},
   "outputs": [],
   "source": []
  },
  {
   "cell_type": "code",
   "execution_count": null,
   "metadata": {},
   "outputs": [],
   "source": []
  }
 ],
 "metadata": {
  "kernelspec": {
   "display_name": "Python 3",
   "language": "python",
   "name": "python3"
  },
  "language_info": {
   "codemirror_mode": {
    "name": "ipython",
    "version": 3
   },
   "file_extension": ".py",
   "mimetype": "text/x-python",
   "name": "python",
   "nbconvert_exporter": "python",
   "pygments_lexer": "ipython3",
   "version": "3.7.2"
  }
 },
 "nbformat": 4,
 "nbformat_minor": 2
}
